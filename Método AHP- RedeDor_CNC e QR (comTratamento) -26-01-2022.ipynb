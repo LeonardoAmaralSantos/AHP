{
 "cells": [
  {
   "cell_type": "code",
   "execution_count": 1,
   "id": "755d3e9f",
   "metadata": {},
   "outputs": [],
   "source": [
    "import pandas as pd\n",
    "import numpy as np"
   ]
  },
  {
   "cell_type": "code",
   "execution_count": 2,
   "id": "96b3c2b1",
   "metadata": {},
   "outputs": [],
   "source": [
    "def CalculoPrioridade(df):\n",
    "    soma = df.sum()                                                           #Soma as linhas da matrix de Comparação (DataFrame)\n",
    "    df_norm = pd.DataFrame()                                                  #Cria um DataFrame vazio, onde será disposta a matrix normalizada\n",
    "    for i in range(len(df)):                                                  #Ciclo for para percorrer a matrix de comparação e dividir pela soma, para normalizar \n",
    "        df_norm[i] = df[df.columns[i]]/soma[i]                                #Normalizaão\n",
    "    prio = df_norm.mean(axis=1)                                               #Cálcula as médias das colunas gerando o autovetor de Prioridade\n",
    "    df_norm.columns = df.columns                                              #Insere as colunas da matrix passada(df) para a matrix criada(df_norm) \n",
    "    df_norm['Prioridade'] = prio                                              #Insere na marix normalizada uma coluna contendo as prioridades\n",
    "    df_norm.sort_values(by='Prioridade', inplace = True, ascending=False)     #Rankeia a matrix normalizada pela a ordem de prioridade\n",
    "    return prio, df_norm"
   ]
  },
  {
   "cell_type": "code",
   "execution_count": 3,
   "id": "d761ce14",
   "metadata": {},
   "outputs": [],
   "source": [
    "def CalculoConsistencia(vetor, df, RI):\n",
    "    df_temp = pd.DataFrame()                             #Cria um DataFrame vazio, onde será disposta a matrix temporaria\n",
    "    for i in range(len(df)):                             #Ciclo for para percorrer a matrix de comparação e multiplicar cada elemento pelo autovetor prioridade\n",
    "        df_temp[i] = df[df.columns[i]]*vetor[i]\n",
    "    df_temp.columns = df.columns                        #Insere as colunas da matrix passada(df) para a matrix criada(df_temp)\n",
    "    total = (df_temp.sum(axis=1)/vetor).sum()           #Soma das prioridade \n",
    "    n = len(df)\n",
    "    Lambda = total/n\n",
    "    CI = (Lambda-n)/(n-1) # CI = índice de consistência\n",
    "    CR = CI/RI            # CR = Razão de Consistência\n",
    "    return df_temp, CI,CR"
   ]
  },
  {
   "cell_type": "code",
   "execution_count": 4,
   "id": "71912a34",
   "metadata": {},
   "outputs": [],
   "source": [
    "def TratamentoPrio(data):\n",
    "    matriz = []\n",
    "    coluna = []\n",
    "    name = list(data.columns)\n",
    "    for i in data[name[0]]:\n",
    "        for j in data[name[0]]:\n",
    "            if (j == 0):\n",
    "                coluna.append(0)\n",
    "            else:\n",
    "                coluna.append(i/j)\n",
    "        matriz.append(coluna)\n",
    "        coluna = []\n",
    "    df = pd.DataFrame(matriz, index= data.index, columns=data.index)\n",
    "    return df "
   ]
  },
  {
   "cell_type": "code",
   "execution_count": 5,
   "id": "880fd288",
   "metadata": {},
   "outputs": [],
   "source": [
    "def LerTratarDadosQR(planilha):\n",
    "    data_mod = pd.read_excel(planilha, sheet_name='Moderado', index_col=0)\n",
    "    df_mod = TratamentoPrio(data_mod)\n",
    "    prioridade_mod, matrix_norm_mod = CalculoPrioridade(df_mod)\n",
    "    data_mar = pd.read_excel(planilha, sheet_name='Marginal', index_col=0)\n",
    "    df_mar = TratamentoPrio(data_mar)\n",
    "    prioridade_mar, matrix_norm_mar = CalculoPrioridade(df_mar)\n",
    "    data_cri = pd.read_excel(planilha, sheet_name='Critico', index_col=0)\n",
    "    df_cri = TratamentoPrio(data_cri)\n",
    "    prioridade_cri, matrix_norm_cri = CalculoPrioridade(df_cri)\n",
    "    return prioridade_mod, prioridade_mar, prioridade_cri"
   ]
  },
  {
   "cell_type": "code",
   "execution_count": 6,
   "id": "a646aa5f",
   "metadata": {},
   "outputs": [],
   "source": [
    "def LerTratarDadosCNC(planilha):\n",
    "    data_sdai = pd.read_excel(planilha, sheet_name='SDAI', index_col=0)\n",
    "    df_sdai = TratamentoPrio(data_sdai)\n",
    "    prioridade_sdai, matrix_norm_sdai = CalculoPrioridade(df_sdai)\n",
    "    data_proc = pd.read_excel(planilha, sheet_name='PROC', index_col=0)\n",
    "    df_proc = TratamentoPrio(data_proc)\n",
    "    prioridade_proc, matrix_norm_proc = CalculoPrioridade(df_proc)\n",
    "    data_ener = pd.read_excel(planilha, sheet_name='ENER', index_col=0)\n",
    "    df_ener = TratamentoPrio(data_ener)\n",
    "    prioridade_ener, matrix_norm_ener = CalculoPrioridade(df_ener)\n",
    "    data_cola = pd.read_excel(planilha, sheet_name='COLA', index_col=0)\n",
    "    df_cola = TratamentoPrio(data_cola)\n",
    "    prioridade_cola, matrix_norm_cola = CalculoPrioridade(df_cola)\n",
    "    return prioridade_sdai, prioridade_proc, prioridade_ener, prioridade_cola"
   ]
  },
  {
   "cell_type": "code",
   "execution_count": 7,
   "id": "8612e7a9",
   "metadata": {},
   "outputs": [],
   "source": [
    "def MatrixDecisaoFinalQR(peso_criterio, prioridade_mod, prioridade_mar, prioridade_cri):\n",
    "    matrix_decisao = pd.DataFrame([prioridade_mod, prioridade_mar, prioridade_cri], \n",
    "                              index=['Moderado', 'Marginal', 'Critico'])\n",
    "    matrix_decisao = matrix_decisao.transpose()\n",
    "    matrix_decisao_final = pd.DataFrame()\n",
    "    matrix_decisao_final['Moderado'] = matrix_decisao['Moderado']*peso_criterio[0]\n",
    "    matrix_decisao_final['Marginal'] = matrix_decisao['Marginal']*peso_criterio[1]\n",
    "    matrix_decisao_final['Critico'] = matrix_decisao['Critico']*peso_criterio[2]\n",
    "    matrix_decisao_final.fillna(0, inplace=True)\n",
    "    matrix_decisao_final['Soma'] = matrix_decisao_final['Moderado'] + matrix_decisao_final['Marginal'] + matrix_decisao_final['Critico']\n",
    "    matrix_final_prioridade = matrix_decisao_final['Soma'].sort_values(ascending = False)\n",
    "    return matrix_final_prioridade"
   ]
  },
  {
   "cell_type": "code",
   "execution_count": 8,
   "id": "8e8bb161",
   "metadata": {},
   "outputs": [],
   "source": [
    "def MatrixDecisãoFinalCNC(peso_criterio, prioridade_sdai, prioridade_proc, prioridade_ener, prioridade_cola):\n",
    "    matrix_decisao = pd.DataFrame([prioridade_sdai, prioridade_proc, prioridade_ener, prioridade_cola], \n",
    "                              index=['SDAI', 'Processo', 'Energia', 'Colaboradores'])\n",
    "    matrix_decisao = matrix_decisao.transpose()\n",
    "    matrix_decisao_final = pd.DataFrame()\n",
    "    matrix_decisao_final['SDAI'] = matrix_decisao['SDAI']*peso_criterio['SDAI']\n",
    "    matrix_decisao_final['Processo'] = matrix_decisao['Processo']*peso_criterio['PROCESSO/PROJETO']\n",
    "    matrix_decisao_final['Energia'] = matrix_decisao['Energia']*peso_criterio['CARGA DE ENERGIA']\n",
    "    matrix_decisao_final['Colaboradores'] = matrix_decisao['Colaboradores']*peso_criterio['COLABORADOR']\n",
    "    matrix_decisao_final['Soma'] = matrix_decisao_final['SDAI'] + matrix_decisao_final['Processo'] + matrix_decisao_final['Energia']+ matrix_decisao_final['Colaboradores']\n",
    "    matrix_final_prioridade = matrix_decisao_final['Soma'].sort_values(ascending = False)\n",
    "    \n",
    "    return matrix_final_prioridade"
   ]
  },
  {
   "cell_type": "code",
   "execution_count": 9,
   "id": "21e17e3b",
   "metadata": {},
   "outputs": [],
   "source": [
    "def main ():\n",
    "    RI_QR = 0.52 #Razão de inconsistência, como a matrix é 3x3, a ordem da marix é 3  \n",
    "    planilha_QR = 'Planilha de Quantitativo de Riscos de Unidades_teste.xlsx'\n",
    "    matrix_comp_QR = pd.read_excel(planilha_QR, sheet_name='Hierarquizar Risco', index_col=0)\n",
    "    prioridade_QR, matrix_norm_QR = CalculoPrioridade(matrix_comp_QR)\n",
    "    matrix_consQR, CI_QR, CR_QR = CalculoConsistencia(prioridade_QR, matrix_comp_QR, RI_QR)\n",
    "    prioridade_mod, prioridade_mar, prioridade_cri = LerTratarDadosQR(planilha_QR)\n",
    "    rank_hosp_QR = MatrixDecisaoFinalQR(prioridade_QR, prioridade_mod, prioridade_mar, prioridade_cri)\n",
    "    \n",
    "    RI_CNC = 0.89 #Razão de inconsistência, como a matrix é 4x4, a ordem da marix é 4 \n",
    "    planilha_CNC = 'Planilha de Ranqueamento de Riscos de Unidades_teste.xlsx'\n",
    "    matrix_comp_CNC = pd.read_excel(planilha_CNC, sheet_name='Hierarquizar Risco', index_col=0)\n",
    "    prioridade_CNC, matrix_norm_CNC = CalculoPrioridade(matrix_comp_CNC)\n",
    "    matrix_cons_CNC, CI_CNC, CR_CNC = CalculoConsistencia(prioridade_CNC, matrix_comp_CNC, RI_CNC)\n",
    "    prioridade_sdai, prioridade_proc, prioridade_ener, prioridade_cola = LerTratarDadosCNC(planilha_CNC)\n",
    "    rank_hosp_CNC = MatrixDecisãoFinalCNC(prioridade_CNC, prioridade_sdai, prioridade_proc, prioridade_ener, prioridade_cola)\n",
    "    return rank_hosp_QR, rank_hosp_CNC, CR_QR, CR_CNC"
   ]
  },
  {
   "cell_type": "code",
   "execution_count": 10,
   "id": "bf9767a9",
   "metadata": {},
   "outputs": [],
   "source": [
    "ranking_hospital_QR, ranking_hospital_CNC, Razao_Consistencia_QR, Razao_Consistencia_CNC = main()"
   ]
  },
  {
   "cell_type": "code",
   "execution_count": 11,
   "id": "0ae3eae2",
   "metadata": {},
   "outputs": [
    {
     "data": {
      "text/plain": [
       "UNIDADE\n",
       "  São Lucas              0.061778\n",
       "  Memorial               0.058133\n",
       "  Copa Star              0.043114\n",
       "  São Marcos             0.038499\n",
       "  UDI                    0.035990\n",
       "  Norte D'or             0.034451\n",
       "  São Rafael             0.029066\n",
       "  Samer                  0.021942\n",
       "  Esperança Recife       0.014817\n",
       "  Clínica São Vicente    0.013279\n",
       "  Jutta Batista          0.007894\n",
       "  Aviccena               0.004615\n",
       "  Morumbi                0.001538\n",
       "  Alphamed               0.000769\n",
       "  Criança                0.000769\n",
       "  Itaim                  0.000000\n",
       "Name: Soma, dtype: float64"
      ]
     },
     "execution_count": 11,
     "metadata": {},
     "output_type": "execute_result"
    }
   ],
   "source": [
    "ranking_hospital_QR"
   ]
  },
  {
   "cell_type": "code",
   "execution_count": 12,
   "id": "3dbab300",
   "metadata": {},
   "outputs": [
    {
     "data": {
      "text/plain": [
       "0.03722565476871801"
      ]
     },
     "execution_count": 12,
     "metadata": {},
     "output_type": "execute_result"
    }
   ],
   "source": [
    "Razao_Consistencia_QR"
   ]
  },
  {
   "cell_type": "code",
   "execution_count": 13,
   "id": "411a3a72",
   "metadata": {},
   "outputs": [
    {
     "data": {
      "text/plain": [
       "UNIDADE\n",
       "  São Lucas              0.141140\n",
       "  Samer                  0.096128\n",
       "  São Rafael             0.094756\n",
       "  Norte D'or             0.090941\n",
       "  UDI                    0.085737\n",
       "  São Marcos             0.084652\n",
       "  Memorial               0.083596\n",
       "  Esperança Recife       0.081203\n",
       "  Copa Star              0.076197\n",
       "  Aviccena               0.062524\n",
       "  Clínica São Vicente    0.051722\n",
       "  Morumbi                0.013970\n",
       "  Alphamed               0.012334\n",
       "  Jutta Batista          0.011775\n",
       "  Criança                0.011232\n",
       "  Itaim                  0.002093\n",
       "Name: Soma, dtype: float64"
      ]
     },
     "execution_count": 13,
     "metadata": {},
     "output_type": "execute_result"
    }
   ],
   "source": [
    "ranking_hospital_CNC"
   ]
  },
  {
   "cell_type": "code",
   "execution_count": 14,
   "id": "a9c445ca",
   "metadata": {},
   "outputs": [
    {
     "data": {
      "text/plain": [
       "0.09839300351811663"
      ]
     },
     "execution_count": 14,
     "metadata": {},
     "output_type": "execute_result"
    }
   ],
   "source": [
    "Razao_Consistencia_CNC"
   ]
  },
  {
   "cell_type": "code",
   "execution_count": 15,
   "id": "51b9f0ea",
   "metadata": {},
   "outputs": [
    {
     "data": {
      "text/html": [
       "<div>\n",
       "<style scoped>\n",
       "    .dataframe tbody tr th:only-of-type {\n",
       "        vertical-align: middle;\n",
       "    }\n",
       "\n",
       "    .dataframe tbody tr th {\n",
       "        vertical-align: top;\n",
       "    }\n",
       "\n",
       "    .dataframe thead th {\n",
       "        text-align: right;\n",
       "    }\n",
       "</style>\n",
       "<table border=\"1\" class=\"dataframe\">\n",
       "  <thead>\n",
       "    <tr style=\"text-align: right;\">\n",
       "      <th></th>\n",
       "      <th>QR</th>\n",
       "      <th>CNC</th>\n",
       "    </tr>\n",
       "    <tr>\n",
       "      <th>UNIDADE</th>\n",
       "      <th></th>\n",
       "      <th></th>\n",
       "    </tr>\n",
       "  </thead>\n",
       "  <tbody>\n",
       "    <tr>\n",
       "      <th>São Lucas</th>\n",
       "      <td>0.061778</td>\n",
       "      <td>0.141140</td>\n",
       "    </tr>\n",
       "    <tr>\n",
       "      <th>Memorial</th>\n",
       "      <td>0.058133</td>\n",
       "      <td>0.083596</td>\n",
       "    </tr>\n",
       "    <tr>\n",
       "      <th>Copa Star</th>\n",
       "      <td>0.043114</td>\n",
       "      <td>0.076197</td>\n",
       "    </tr>\n",
       "    <tr>\n",
       "      <th>São Marcos</th>\n",
       "      <td>0.038499</td>\n",
       "      <td>0.084652</td>\n",
       "    </tr>\n",
       "    <tr>\n",
       "      <th>UDI</th>\n",
       "      <td>0.035990</td>\n",
       "      <td>0.085737</td>\n",
       "    </tr>\n",
       "    <tr>\n",
       "      <th>Norte D'or</th>\n",
       "      <td>0.034451</td>\n",
       "      <td>0.090941</td>\n",
       "    </tr>\n",
       "    <tr>\n",
       "      <th>São Rafael</th>\n",
       "      <td>0.029066</td>\n",
       "      <td>0.094756</td>\n",
       "    </tr>\n",
       "    <tr>\n",
       "      <th>Samer</th>\n",
       "      <td>0.021942</td>\n",
       "      <td>0.096128</td>\n",
       "    </tr>\n",
       "    <tr>\n",
       "      <th>Esperança Recife</th>\n",
       "      <td>0.014817</td>\n",
       "      <td>0.081203</td>\n",
       "    </tr>\n",
       "    <tr>\n",
       "      <th>Clínica São Vicente</th>\n",
       "      <td>0.013279</td>\n",
       "      <td>0.051722</td>\n",
       "    </tr>\n",
       "    <tr>\n",
       "      <th>Jutta Batista</th>\n",
       "      <td>0.007894</td>\n",
       "      <td>0.011775</td>\n",
       "    </tr>\n",
       "    <tr>\n",
       "      <th>Aviccena</th>\n",
       "      <td>0.004615</td>\n",
       "      <td>0.062524</td>\n",
       "    </tr>\n",
       "    <tr>\n",
       "      <th>Morumbi</th>\n",
       "      <td>0.001538</td>\n",
       "      <td>0.013970</td>\n",
       "    </tr>\n",
       "    <tr>\n",
       "      <th>Alphamed</th>\n",
       "      <td>0.000769</td>\n",
       "      <td>0.012334</td>\n",
       "    </tr>\n",
       "    <tr>\n",
       "      <th>Criança</th>\n",
       "      <td>0.000769</td>\n",
       "      <td>0.011232</td>\n",
       "    </tr>\n",
       "    <tr>\n",
       "      <th>Itaim</th>\n",
       "      <td>0.000000</td>\n",
       "      <td>0.002093</td>\n",
       "    </tr>\n",
       "  </tbody>\n",
       "</table>\n",
       "</div>"
      ],
      "text/plain": [
       "                             QR       CNC\n",
       "UNIDADE                                  \n",
       "  São Lucas            0.061778  0.141140\n",
       "  Memorial             0.058133  0.083596\n",
       "  Copa Star            0.043114  0.076197\n",
       "  São Marcos           0.038499  0.084652\n",
       "  UDI                  0.035990  0.085737\n",
       "  Norte D'or           0.034451  0.090941\n",
       "  São Rafael           0.029066  0.094756\n",
       "  Samer                0.021942  0.096128\n",
       "  Esperança Recife     0.014817  0.081203\n",
       "  Clínica São Vicente  0.013279  0.051722\n",
       "  Jutta Batista        0.007894  0.011775\n",
       "  Aviccena             0.004615  0.062524\n",
       "  Morumbi              0.001538  0.013970\n",
       "  Alphamed             0.000769  0.012334\n",
       "  Criança              0.000769  0.011232\n",
       "  Itaim                0.000000  0.002093"
      ]
     },
     "execution_count": 15,
     "metadata": {},
     "output_type": "execute_result"
    }
   ],
   "source": [
    "ranking = pd.DataFrame()\n",
    "ranking['QR'] = ranking_hospital_QR\n",
    "ranking['CNC'] = ranking_hospital_CNC\n",
    "ranking"
   ]
  },
  {
   "cell_type": "code",
   "execution_count": 80,
   "id": "360805cb",
   "metadata": {},
   "outputs": [
    {
     "data": {
      "text/plain": [
       "QR     0.366654\n",
       "CNC    1.000000\n",
       "dtype: float64"
      ]
     },
     "execution_count": 80,
     "metadata": {},
     "output_type": "execute_result"
    }
   ],
   "source": [
    "ranking.sum()"
   ]
  },
  {
   "cell_type": "code",
   "execution_count": 82,
   "id": "b1f516ea",
   "metadata": {},
   "outputs": [
    {
     "data": {
      "text/plain": [
       "0.03722565476871801"
      ]
     },
     "execution_count": 82,
     "metadata": {},
     "output_type": "execute_result"
    }
   ],
   "source": [
    "Razao_Consistencia_QR"
   ]
  },
  {
   "cell_type": "code",
   "execution_count": 84,
   "id": "cd421dc5",
   "metadata": {},
   "outputs": [],
   "source": [
    "def Avaliacao(CR):\n",
    "    if (CR<0,1):\n",
    "        resp = 'Consistênte'\n",
    "    else: \n",
    "        resp = 'Não é consistênte'\n",
    "    return resp"
   ]
  },
  {
   "cell_type": "code",
   "execution_count": 85,
   "id": "45fe0841",
   "metadata": {},
   "outputs": [
    {
     "data": {
      "text/plain": [
       "'Consistência'"
      ]
     },
     "execution_count": 85,
     "metadata": {},
     "output_type": "execute_result"
    }
   ],
   "source": [
    "resposta = Avaliacao(Razao_Consistencia_QR)\n",
    "resposta"
   ]
  },
  {
   "cell_type": "code",
   "execution_count": null,
   "id": "14f1e061",
   "metadata": {},
   "outputs": [],
   "source": []
  }
 ],
 "metadata": {
  "kernelspec": {
   "display_name": "Python 3",
   "language": "python",
   "name": "python3"
  },
  "language_info": {
   "codemirror_mode": {
    "name": "ipython",
    "version": 3
   },
   "file_extension": ".py",
   "mimetype": "text/x-python",
   "name": "python",
   "nbconvert_exporter": "python",
   "pygments_lexer": "ipython3",
   "version": "3.8.8"
  }
 },
 "nbformat": 4,
 "nbformat_minor": 5
}
