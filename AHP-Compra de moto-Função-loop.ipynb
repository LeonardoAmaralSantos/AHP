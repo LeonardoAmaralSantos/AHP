{
 "cells": [
  {
   "cell_type": "code",
   "execution_count": 1,
   "id": "aebd832d",
   "metadata": {},
   "outputs": [],
   "source": [
    "import numpy as np\n",
    "import pandas as pd"
   ]
  },
  {
   "cell_type": "code",
   "execution_count": 2,
   "id": "402f0374",
   "metadata": {},
   "outputs": [
    {
     "data": {
      "text/html": [
       "<div>\n",
       "<style scoped>\n",
       "    .dataframe tbody tr th:only-of-type {\n",
       "        vertical-align: middle;\n",
       "    }\n",
       "\n",
       "    .dataframe tbody tr th {\n",
       "        vertical-align: top;\n",
       "    }\n",
       "\n",
       "    .dataframe thead th {\n",
       "        text-align: right;\n",
       "    }\n",
       "</style>\n",
       "<table border=\"1\" class=\"dataframe\">\n",
       "  <thead>\n",
       "    <tr style=\"text-align: right;\">\n",
       "      <th></th>\n",
       "      <th>Custo</th>\n",
       "      <th>Cilindrada</th>\n",
       "      <th>Esportividade</th>\n",
       "    </tr>\n",
       "    <tr>\n",
       "      <th>Comprar uma moto</th>\n",
       "      <th></th>\n",
       "      <th></th>\n",
       "      <th></th>\n",
       "    </tr>\n",
       "  </thead>\n",
       "  <tbody>\n",
       "    <tr>\n",
       "      <th>Custo</th>\n",
       "      <td>1.000000</td>\n",
       "      <td>5</td>\n",
       "      <td>3.000000</td>\n",
       "    </tr>\n",
       "    <tr>\n",
       "      <th>Cilindrada</th>\n",
       "      <td>0.200000</td>\n",
       "      <td>1</td>\n",
       "      <td>0.333333</td>\n",
       "    </tr>\n",
       "    <tr>\n",
       "      <th>Esportividade</th>\n",
       "      <td>0.333333</td>\n",
       "      <td>3</td>\n",
       "      <td>1.000000</td>\n",
       "    </tr>\n",
       "  </tbody>\n",
       "</table>\n",
       "</div>"
      ],
      "text/plain": [
       "                     Custo  Cilindrada  Esportividade\n",
       "Comprar uma moto                                     \n",
       "Custo             1.000000           5       3.000000\n",
       "Cilindrada        0.200000           1       0.333333\n",
       "Esportividade     0.333333           3       1.000000"
      ]
     },
     "execution_count": 2,
     "metadata": {},
     "output_type": "execute_result"
    }
   ],
   "source": [
    "data = pd.read_excel('Dados_AHP_Compra.xlsx', sheet_name='CompraMoto', index_col=0)\n",
    "data"
   ]
  },
  {
   "cell_type": "code",
   "execution_count": 10,
   "id": "c2fa9fbc",
   "metadata": {},
   "outputs": [],
   "source": [
    "def CalculaVetorPrio(df):\n",
    "    soma = df.sum()\n",
    "    df_norm = pd.DataFrame()\n",
    "    for i in range(len(data)):\n",
    "        df_norm[i] = df[df.columns[i]]/soma[i]\n",
    "    vetor_prio = df_norm.mean(axis=1)\n",
    "    return vetor_prio"
   ]
  },
  {
   "cell_type": "code",
   "execution_count": 15,
   "id": "ceecf56f",
   "metadata": {},
   "outputs": [
    {
     "data": {
      "text/plain": [
       "Comprar uma moto\n",
       "Custo            0.633346\n",
       "Cilindrada       0.106156\n",
       "Esportividade    0.260498\n",
       "dtype: float64"
      ]
     },
     "execution_count": 15,
     "metadata": {},
     "output_type": "execute_result"
    }
   ],
   "source": [
    "Prioridade = CalculaVetorPrio(data)\n",
    "Prioridade"
   ]
  },
  {
   "cell_type": "code",
   "execution_count": 25,
   "id": "07dab06b",
   "metadata": {},
   "outputs": [],
   "source": [
    "def CalculoLamba(vetor, df):\n",
    "    df_temp = pd.DataFrame()\n",
    "    for i in range(len(data)):\n",
    "        df_temp[i] = df[df.columns[i]]*vetor[i]\n",
    "    df_temp.columns = df.columns\n",
    "    total = (df_temp.sum(axis=1)/vetor).sum()\n",
    "    n = len(df)\n",
    "    Lambda = total/n\n",
    "    CI = (Lambda-n)/(n-1)\n",
    "    RI=0.58\n",
    "    CR = CI/RI\n",
    "    return df_temp, Lambda,CI,CR"
   ]
  },
  {
   "cell_type": "code",
   "execution_count": 26,
   "id": "5914b81d",
   "metadata": {},
   "outputs": [],
   "source": [
    "data1, Y, I, R = CalculoLamba(Prioridade, data)"
   ]
  },
  {
   "cell_type": "code",
   "execution_count": 27,
   "id": "8b87dd2d",
   "metadata": {},
   "outputs": [
    {
     "data": {
      "text/html": [
       "<div>\n",
       "<style scoped>\n",
       "    .dataframe tbody tr th:only-of-type {\n",
       "        vertical-align: middle;\n",
       "    }\n",
       "\n",
       "    .dataframe tbody tr th {\n",
       "        vertical-align: top;\n",
       "    }\n",
       "\n",
       "    .dataframe thead th {\n",
       "        text-align: right;\n",
       "    }\n",
       "</style>\n",
       "<table border=\"1\" class=\"dataframe\">\n",
       "  <thead>\n",
       "    <tr style=\"text-align: right;\">\n",
       "      <th></th>\n",
       "      <th>Custo</th>\n",
       "      <th>Cilindrada</th>\n",
       "      <th>Esportividade</th>\n",
       "    </tr>\n",
       "    <tr>\n",
       "      <th>Comprar uma moto</th>\n",
       "      <th></th>\n",
       "      <th></th>\n",
       "      <th></th>\n",
       "    </tr>\n",
       "  </thead>\n",
       "  <tbody>\n",
       "    <tr>\n",
       "      <th>Custo</th>\n",
       "      <td>0.633346</td>\n",
       "      <td>0.530782</td>\n",
       "      <td>0.781494</td>\n",
       "    </tr>\n",
       "    <tr>\n",
       "      <th>Cilindrada</th>\n",
       "      <td>0.126669</td>\n",
       "      <td>0.106156</td>\n",
       "      <td>0.086833</td>\n",
       "    </tr>\n",
       "    <tr>\n",
       "      <th>Esportividade</th>\n",
       "      <td>0.211115</td>\n",
       "      <td>0.318469</td>\n",
       "      <td>0.260498</td>\n",
       "    </tr>\n",
       "  </tbody>\n",
       "</table>\n",
       "</div>"
      ],
      "text/plain": [
       "                     Custo  Cilindrada  Esportividade\n",
       "Comprar uma moto                                     \n",
       "Custo             0.633346    0.530782       0.781494\n",
       "Cilindrada        0.126669    0.106156       0.086833\n",
       "Esportividade     0.211115    0.318469       0.260498"
      ]
     },
     "execution_count": 27,
     "metadata": {},
     "output_type": "execute_result"
    }
   ],
   "source": [
    "data1"
   ]
  },
  {
   "cell_type": "code",
   "execution_count": 28,
   "id": "7aa8655f",
   "metadata": {},
   "outputs": [
    {
     "data": {
      "text/plain": [
       "3.0387146809594667"
      ]
     },
     "execution_count": 28,
     "metadata": {},
     "output_type": "execute_result"
    }
   ],
   "source": [
    "Y"
   ]
  },
  {
   "cell_type": "code",
   "execution_count": 29,
   "id": "8be07ad5",
   "metadata": {},
   "outputs": [
    {
     "data": {
      "text/plain": [
       "0.019357340479733365"
      ]
     },
     "execution_count": 29,
     "metadata": {},
     "output_type": "execute_result"
    }
   ],
   "source": [
    "I"
   ]
  },
  {
   "cell_type": "code",
   "execution_count": 30,
   "id": "aec749f3",
   "metadata": {},
   "outputs": [
    {
     "data": {
      "text/plain": [
       "0.03337472496505753"
      ]
     },
     "execution_count": 30,
     "metadata": {},
     "output_type": "execute_result"
    }
   ],
   "source": [
    "R"
   ]
  },
  {
   "cell_type": "code",
   "execution_count": null,
   "id": "6687ea08",
   "metadata": {},
   "outputs": [],
   "source": []
  }
 ],
 "metadata": {
  "kernelspec": {
   "display_name": "Python 3",
   "language": "python",
   "name": "python3"
  },
  "language_info": {
   "codemirror_mode": {
    "name": "ipython",
    "version": 3
   },
   "file_extension": ".py",
   "mimetype": "text/x-python",
   "name": "python",
   "nbconvert_exporter": "python",
   "pygments_lexer": "ipython3",
   "version": "3.8.8"
  }
 },
 "nbformat": 4,
 "nbformat_minor": 5
}
